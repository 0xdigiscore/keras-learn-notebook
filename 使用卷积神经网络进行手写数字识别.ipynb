{
 "cells": [
  {
   "cell_type": "markdown",
   "metadata": {},
   "source": [
    "# MNIST 手写数字识别\n",
    "![1.jpg](https://www.cntk.ai/jup/cntk103d_convonly2.png)\n",
    "\n",
    "## CNN神经卷积网路简介¶ ¶\n",
    "\n",
    "### 步骤1：神经卷积网路介绍\n",
    "\n",
    "CNN卷积神经网路可以分成两大部分：\n",
    "\n",
    "* 影像的特征提取：透过Convolution与Max Pooling提取影像特征。\n",
    "* 完全连接的前馈网络：展平图层，隐藏图层和输出图层\n",
    "![2.jpg](https://2.bp.blogspot.com/-lo4ANmafiQM/WVpEeo68VPI/AAAAAAAAWxE/7FJBUGp-GrQFL5fUYEg6tQAJWXUHrtgWgCLcBGAs/s1600/3812_1.png)\n",
    "\n",
    "### 步骤2：卷积神经网络运算\n",
    "\n",
    "卷积运算的原理是将一个影像透过卷积运算的Filter weight（s）产生多个影像，在上面第一层的卷积为例：\n",
    "\n",
    "1.先以随机方式产生16个3x3的filter\n",
    "2.要转换的影像由左而右，由上而下透过过滤器重量产生新影像的值\n",
    "3.使用16个filter重量产生16个channelc层\n",
    "![3.jpg](https://4.bp.blogspot.com/-65gO4Ylb-pU/WVpEj04De1I/AAAAAAAAWxI/Y3wX2OYjzJYddDYCaH24-Swmhj7Q9U8iACLcBGAs/s1600/3591_1.PNG)\n",
    "\n",
    "\n",
    "### 步骤3：池化运算\n",
    "\n",
    "![4.jpg](https://4.bp.blogspot.com/-HCaeeLJ9PSI/WVpEpg-qWiI/AAAAAAAAWxM/v4Qg8BAHuxAaC9Eoe2JZWY8jdt_vyCy8gCLcBGAs/s1600/3591_2.PNG)\n",
    "\n",
    "池化的好处:\n",
    "* 减少需要处理的资料点：减少后续运算所需时间。\n",
    "* 让影像位置的差异变小：例如手写数字7，位置上下左右可能不同，但是位置不同可能影响辨识。减少影像大小让数字的位置差异变小。\n",
    "* 参数的数量和计算量下降：这在一定程度上也控制了Overfitting的状况。 "
   ]
  },
  {
   "cell_type": "markdown",
   "metadata": {
    "ExecuteTime": {
     "end_time": "2018-05-31T03:58:52.200178Z",
     "start_time": "2018-05-31T03:58:52.198247Z"
    }
   },
   "source": [
    "# 准备训练及测试数据\n",
    "CNN（卷积神经网络）与MLP进行资料的前处理方式有所不同，说明如下：\n",
    "\n",
    "* MLP：图像重塑（60000，784）：MLP因为直接送进神经元处理，所以60,000笔的每一笔图像（28x28）转换为784个神经元输入。\n",
    "* CNN：image reshape（60000,28,28,1）：CNN因为必须先进卷积与池化（Max-Pool）运算，所以必须保留图像的维度。因此60,000图像每一笔图像（28x28）转换成28（height）x 28（width）x 1（channel）的单位。"
   ]
  },
  {
   "cell_type": "code",
   "execution_count": 7,
   "metadata": {
    "ExecuteTime": {
     "end_time": "2018-05-31T04:05:06.086397Z",
     "start_time": "2018-05-31T04:05:05.459996Z"
    }
   },
   "outputs": [
    {
     "name": "stdout",
     "output_type": "stream",
     "text": [
      "y_train:[5 0 4 1 9]\n",
      "onehot之后:[[0. 0. 0. 0. 0. 1. 0. 0. 0. 0.]\n",
      " [1. 0. 0. 0. 0. 0. 0. 0. 0. 0.]\n",
      " [0. 0. 0. 0. 1. 0. 0. 0. 0. 0.]\n",
      " [0. 1. 0. 0. 0. 0. 0. 0. 0. 0.]\n",
      " [0. 0. 0. 0. 0. 0. 0. 0. 0. 1.]]\n"
     ]
    }
   ],
   "source": [
    "from keras.datasets import mnist  \n",
    "from keras.utils import np_utils  \n",
    "import numpy as np\n",
    "\n",
    "np.random.seed(10)  \n",
    "  \n",
    "# Read MNIST data  \n",
    "(X_Train, y_Train), (X_Test, y_Test) = mnist.load_data()  \n",
    "  \n",
    "# Translation of data  \n",
    "X_Train4D = X_Train.reshape(X_Train.shape[0], 28, 28, 1).astype('float32')  \n",
    "X_Test4D = X_Test.reshape(X_Test.shape[0], 28, 28, 1).astype('float32')\n",
    "# Standardize feature data  \n",
    "X_Train4D_norm = X_Train4D / 255  \n",
    "X_Test4D_norm = X_Test4D /255  \n",
    "  \n",
    "# Label Onehot-encoding  \n",
    "y_TrainOneHot = np_utils.to_categorical(y_Train)\n",
    "y_TestOneHot = np_utils.to_categorical(y_Test)\n",
    "print(\"y_train:%s\" % y_Train[0:5])\n",
    "print(\"onehot之后:%s\" % y_TrainOneHot[0:5])"
   ]
  },
  {
   "cell_type": "markdown",
   "metadata": {},
   "source": [
    "# 建立神经网络"
   ]
  },
  {
   "cell_type": "code",
   "execution_count": 1,
   "metadata": {
    "ExecuteTime": {
     "end_time": "2018-05-31T03:57:29.893395Z",
     "start_time": "2018-05-31T03:57:28.304198Z"
    }
   },
   "outputs": [
    {
     "name": "stderr",
     "output_type": "stream",
     "text": [
      "/Users/tianling/anaconda3/lib/python3.6/site-packages/h5py/__init__.py:36: FutureWarning: Conversion of the second argument of issubdtype from `float` to `np.floating` is deprecated. In future, it will be treated as `np.float64 == np.dtype(float).type`.\n",
      "  from ._conv import register_converters as _register_converters\n",
      "Using TensorFlow backend.\n"
     ]
    },
    {
     "name": "stdout",
     "output_type": "stream",
     "text": [
      "_________________________________________________________________\n",
      "Layer (type)                 Output Shape              Param #   \n",
      "=================================================================\n",
      "conv2d_1 (Conv2D)            (None, 28, 28, 16)        416       \n",
      "_________________________________________________________________\n",
      "max_pooling2d_1 (MaxPooling2 (None, 14, 14, 16)        0         \n",
      "_________________________________________________________________\n",
      "conv2d_2 (Conv2D)            (None, 14, 14, 36)        14436     \n",
      "_________________________________________________________________\n",
      "max_pooling2d_2 (MaxPooling2 (None, 7, 7, 36)          0         \n",
      "_________________________________________________________________\n",
      "dropout_1 (Dropout)          (None, 7, 7, 36)          0         \n",
      "_________________________________________________________________\n",
      "flatten_1 (Flatten)          (None, 1764)              0         \n",
      "_________________________________________________________________\n",
      "dense_1 (Dense)              (None, 128)               225920    \n",
      "_________________________________________________________________\n",
      "dropout_2 (Dropout)          (None, 128)               0         \n",
      "_________________________________________________________________\n",
      "dense_2 (Dense)              (None, 10)                1290      \n",
      "=================================================================\n",
      "Total params: 242,062\n",
      "Trainable params: 242,062\n",
      "Non-trainable params: 0\n",
      "_________________________________________________________________\n",
      "\n"
     ]
    }
   ],
   "source": [
    "from keras.models import Sequential  \n",
    "from keras.layers import Dense,Dropout,Flatten,Conv2D,MaxPool2D \n",
    "\n",
    "model = Sequential()  \n",
    "# Create CN layer 1  \n",
    "model.add(Conv2D(filters=16,  \n",
    "                 kernel_size=(5,5),  \n",
    "                 padding='same',  \n",
    "                 input_shape=(28,28,1),  \n",
    "                 activation='relu',\n",
    "                 name='conv2d_1')) \n",
    "# Create Max-Pool 1  \n",
    "model.add(MaxPool2D(pool_size=(2,2), name='max_pooling2d_1'))  \n",
    "  \n",
    "# Create CN layer 2  \n",
    "model.add(Conv2D(filters=36,  \n",
    "                 kernel_size=(5,5),  \n",
    "                 padding='same',  \n",
    "                 input_shape=(28,28,1),  \n",
    "                 activation='relu',\n",
    "                 name='conv2d_2'))  \n",
    "  \n",
    "# Create Max-Pool 2  \n",
    "model.add(MaxPool2D(pool_size=(2,2), name='max_pooling2d_2'))  \n",
    "  \n",
    "# Add Dropout layer  \n",
    "model.add(Dropout(0.25, name='dropout_1'))\n",
    "model.add(Flatten(name='flatten_1'))\n",
    "model.add(Dense(128, activation='relu', name='dense_1'))  \n",
    "model.add(Dropout(0.5, name='dropout_2'))\n",
    "model.add(Dense(10, activation='softmax', name='dense_2'))\n",
    "model.summary()  \n",
    "print(\"\")  "
   ]
  },
  {
   "cell_type": "markdown",
   "metadata": {},
   "source": [
    "# 进行训练"
   ]
  },
  {
   "cell_type": "code",
   "execution_count": 8,
   "metadata": {
    "ExecuteTime": {
     "end_time": "2018-05-31T04:11:32.171616Z",
     "start_time": "2018-05-31T04:06:06.505861Z"
    }
   },
   "outputs": [
    {
     "name": "stdout",
     "output_type": "stream",
     "text": [
      "Train on 48000 samples, validate on 12000 samples\n",
      "Epoch 1/10\n",
      "48000/48000 [==============================] - 33s 679us/step - loss: 0.4823 - acc: 0.8495 - val_loss: 0.0950 - val_acc: 0.9714\n",
      "Epoch 2/10\n",
      "48000/48000 [==============================] - 35s 723us/step - loss: 0.1335 - acc: 0.9610 - val_loss: 0.0646 - val_acc: 0.9798\n",
      "Epoch 3/10\n",
      "48000/48000 [==============================] - 33s 689us/step - loss: 0.0975 - acc: 0.9707 - val_loss: 0.0513 - val_acc: 0.9833\n",
      "Epoch 4/10\n",
      "48000/48000 [==============================] - 33s 682us/step - loss: 0.0776 - acc: 0.9767 - val_loss: 0.0459 - val_acc: 0.9859\n",
      "Epoch 5/10\n",
      "48000/48000 [==============================] - 32s 675us/step - loss: 0.0668 - acc: 0.9799 - val_loss: 0.0410 - val_acc: 0.9877\n",
      "Epoch 6/10\n",
      "48000/48000 [==============================] - 32s 673us/step - loss: 0.0562 - acc: 0.9828 - val_loss: 0.0356 - val_acc: 0.9893\n",
      "Epoch 7/10\n",
      "48000/48000 [==============================] - 33s 679us/step - loss: 0.0519 - acc: 0.9839 - val_loss: 0.0320 - val_acc: 0.9899\n",
      "Epoch 8/10\n",
      "48000/48000 [==============================] - 32s 659us/step - loss: 0.0449 - acc: 0.9865 - val_loss: 0.0346 - val_acc: 0.9908\n",
      "Epoch 9/10\n",
      "48000/48000 [==============================] - 31s 653us/step - loss: 0.0420 - acc: 0.9867 - val_loss: 0.0324 - val_acc: 0.9904\n",
      "Epoch 10/10\n",
      "48000/48000 [==============================] - 32s 662us/step - loss: 0.0388 - acc: 0.9882 - val_loss: 0.0295 - val_acc: 0.9917\n"
     ]
    }
   ],
   "source": [
    "# 定义训练方式\n",
    "model.compile(loss='categorical_crossentropy', optimizer='adam', metrics=['accuracy'])  \n",
    "  \n",
    "# 开始训练  \n",
    "train_history = model.fit(x=X_Train4D_norm,  \n",
    "                          y=y_TrainOneHot, validation_split=0.2,  \n",
    "                          epochs=10, batch_size=300, verbose=1)"
   ]
  },
  {
   "cell_type": "markdown",
   "metadata": {
    "ExecuteTime": {
     "end_time": "2018-05-31T04:11:32.176477Z",
     "start_time": "2018-05-31T04:11:32.173379Z"
    }
   },
   "source": [
    "# 画出accuracy执行结果\n",
    "之前的训练步骤产生的准确性与损失都会记录在train_history变数。"
   ]
  },
  {
   "cell_type": "code",
   "execution_count": 11,
   "metadata": {
    "ExecuteTime": {
     "end_time": "2018-05-31T04:15:56.738738Z",
     "start_time": "2018-05-31T04:15:56.694090Z"
    }
   },
   "outputs": [],
   "source": [
    "import matplotlib.pyplot as plt  \n",
    "def plot_image(image):  \n",
    "    fig = plt.gcf()  \n",
    "    fig.set_size_inches(2,2)  \n",
    "    plt.imshow(image, cmap='binary')  \n",
    "    plt.show()  \n",
    "\n",
    "def plot_images_labels_predict(images, labels, prediction, idx, num=10):  \n",
    "    fig = plt.gcf()  \n",
    "    fig.set_size_inches(12, 14)  \n",
    "    if num > 25: num = 25  \n",
    "    for i in range(0, num):  \n",
    "        ax=plt.subplot(5,5, 1+i)  \n",
    "        ax.imshow(images[idx], cmap='binary')  \n",
    "        title = \"l=\" + str(labels[idx])  \n",
    "        if len(prediction) > 0:  \n",
    "            title = \"l={},p={}\".format(str(labels[idx]), str(prediction[idx]))  \n",
    "        else:  \n",
    "            title = \"l={}\".format(str(labels[idx]))  \n",
    "        ax.set_title(title, fontsize=10)  \n",
    "        ax.set_xticks([]); ax.set_yticks([])  \n",
    "        idx+=1  \n",
    "    plt.show()  \n",
    "\n",
    "def show_train_history(train_history, train, validation):  \n",
    "    plt.plot(train_history.history[train])  \n",
    "    plt.plot(train_history.history[validation])  \n",
    "    plt.title('Train History')  \n",
    "    plt.ylabel(train)  \n",
    "    plt.xlabel('Epoch')  \n",
    "    plt.legend(['train', 'validation'], loc='upper left')  \n",
    "    plt.show() "
   ]
  },
  {
   "cell_type": "code",
   "execution_count": 13,
   "metadata": {
    "ExecuteTime": {
     "end_time": "2018-05-31T04:18:34.163637Z",
     "start_time": "2018-05-31T04:18:34.046725Z"
    }
   },
   "outputs": [
    {
     "data": {
      "image/png": "[encoded data removed]",
      "text/plain": [
       "<matplotlib.figure.Figure at 0x1819a2f0f0>"
      ]
     },
     "metadata": {},
     "output_type": "display_data"
    }
   ],
   "source": [
    "show_train_history(train_history, 'acc', 'val_acc')"
   ]
  },
  {
   "cell_type": "code",
   "execution_count": 14,
   "metadata": {
    "ExecuteTime": {
     "end_time": "2018-05-31T04:18:43.622225Z",
     "start_time": "2018-05-31T04:18:43.511779Z"
    }
   },
   "outputs": [
    {
     "data": {
      "image/png": "[encoded data removed]",
      "text/plain": [
       "<matplotlib.figure.Figure at 0x181809a080>"
      ]
     },
     "metadata": {},
     "output_type": "display_data"
    }
   ],
   "source": [
    "show_train_history(train_history, 'loss', 'val_loss')"
   ]
  },
  {
   "cell_type": "markdown",
   "metadata": {},
   "source": [
    "# 评估模型准确率并进行预测\n",
    "我们已经完成了训练，接下来使用test测试资料集来进行评估准确率"
   ]
  },
  {
   "cell_type": "markdown",
   "metadata": {},
   "source": [
    "## 评估模型准确率"
   ]
  },
  {
   "cell_type": "code",
   "execution_count": null,
   "metadata": {},
   "outputs": [],
   "source": []
  },
  {
   "cell_type": "code",
   "execution_count": 15,
   "metadata": {
    "ExecuteTime": {
     "end_time": "2018-05-31T04:19:06.355439Z",
     "start_time": "2018-05-31T04:19:03.892291Z"
    }
   },
   "outputs": [
    {
     "name": "stdout",
     "output_type": "stream",
     "text": [
      "10000/10000 [==============================] - 2s 246us/step\n",
      "\n",
      "\t[Info] Accuracy of testing data = 99.2%\n"
     ]
    }
   ],
   "source": [
    "scores = model.evaluate(X_Test4D_norm, y_TestOneHot)  \n",
    "print()  \n",
    "print(\"\\t[Info] Accuracy of testing data = {:2.1f}%\".format(scores[1]*100.0))"
   ]
  },
  {
   "cell_type": "markdown",
   "metadata": {},
   "source": [
    "## 预测结果"
   ]
  },
  {
   "cell_type": "code",
   "execution_count": 16,
   "metadata": {
    "ExecuteTime": {
     "end_time": "2018-05-31T04:21:35.612820Z",
     "start_time": "2018-05-31T04:21:33.267251Z"
    }
   },
   "outputs": [
    {
     "name": "stdout",
     "output_type": "stream",
     "text": [
      "\t[Info] Making prediction of X_Test4D_norm\n",
      "\n",
      "\t[Info] Show 10 prediction result (From 240):\n",
      "[5 9 8 7 2 3 0 4 4 2]\n",
      "\n"
     ]
    }
   ],
   "source": [
    "print(\"\\t[Info] Making prediction of X_Test4D_norm\")  \n",
    "prediction = model.predict_classes(X_Test4D_norm)  # Making prediction and save result to prediction  \n",
    "print()  \n",
    "print(\"\\t[Info] Show 10 prediction result (From 240):\")  \n",
    "print(\"%s\\n\" % (prediction[240:250]))"
   ]
  },
  {
   "cell_type": "code",
   "execution_count": 17,
   "metadata": {
    "ExecuteTime": {
     "end_time": "2018-05-31T04:22:10.641051Z",
     "start_time": "2018-05-31T04:22:10.137326Z"
    }
   },
   "outputs": [
    {
     "data": {
      "image/png": "[encoded data removed]",
      "text/plain": [
       "<matplotlib.figure.Figure at 0x1818158b38>"
      ]
     },
     "metadata": {},
     "output_type": "display_data"
    }
   ],
   "source": [
    "## 展示前10预测结果\n",
    "plot_images_labels_predict(X_Test, y_Test, prediction, idx=240)"
   ]
  }
 ],
 "metadata": {
  "kernelspec": {
   "display_name": "Python 3",
   "language": "python",
   "name": "python3"
  },
  "language_info": {
   "codemirror_mode": {
    "name": "ipython",
    "version": 3
   },
   "file_extension": ".py",
   "mimetype": "text/x-python",
   "name": "python",
   "nbconvert_exporter": "python",
   "pygments_lexer": "ipython3",
   "version": "3.6.4"
  },
  "toc": {
   "base_numbering": 1,
   "nav_menu": {},
   "number_sections": true,
   "sideBar": true,
   "skip_h1_title": false,
   "title_cell": "Table of Contents",
   "title_sidebar": "Contents",
   "toc_cell": false,
   "toc_position": {},
   "toc_section_display": true,
   "toc_window_display": false
  }
 },
 "nbformat": 4,
 "nbformat_minor": 2
}

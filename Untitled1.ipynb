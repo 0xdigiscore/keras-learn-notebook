{
 "cells": [
  {
   "cell_type": "markdown",
   "metadata": {
    "ExecuteTime": {
     "end_time": "2018-05-31T04:55:03.767087Z",
     "start_time": "2018-05-31T04:55:03.763183Z"
    }
   },
   "source": [
    "# 使用keras进行单词级别的onehot编码"
   ]
  },
  {
   "cell_type": "code",
   "execution_count": 2,
   "metadata": {
    "ExecuteTime": {
     "end_time": "2018-05-31T04:55:23.339437Z",
     "start_time": "2018-05-31T04:55:20.561736Z"
    }
   },
   "outputs": [
    {
     "name": "stderr",
     "output_type": "stream",
     "text": [
      "/Users/tianling/anaconda3/lib/python3.6/site-packages/h5py/__init__.py:36: FutureWarning: Conversion of the second argument of issubdtype from `float` to `np.floating` is deprecated. In future, it will be treated as `np.float64 == np.dtype(float).type`.\n",
      "  from ._conv import register_converters as _register_converters\n",
      "Using TensorFlow backend.\n"
     ]
    },
    {
     "name": "stdout",
     "output_type": "stream",
     "text": [
      "Found 9 unique tokens.\n"
     ]
    }
   ],
   "source": [
    "from  keras.preprocessing.text  import  Tokenizer\n",
    "\n",
    "#这是我们范例数据\n",
    "samples  =  [ 'The cat sat on the mat.' ,  'The dog ate my homework.' ]\n",
    "\n",
    "#我们创建一个符标器，配置只粹取1000个最常见的单字\n",
    "tokenizer  =  Tokenizer ( num_words = 1000 )\n",
    "\n",
    "#建立单字索引\n",
    "tokenizer . fit_on_texts ( samples )\n",
    "\n",
    "#将字符串转换为整数索引列表。\n",
    "sequences  =  tokenizer . texts_to_sequences ( samples )\n",
    "\n",
    "#你也可以直接获得one-hot编码后的binary表示。\n",
    "one_hot_results  =  tokenizer . texts_to_matrix ( samples ,  mode = 'binary' )\n",
    "\n",
    "#取出单词索引的字典物件\n",
    "word_index  =  tokenizer . word_index \n",
    "print ( 'Found %s unique tokens.'  %  len ( word_index ))"
   ]
  },
  {
   "cell_type": "code",
   "execution_count": 5,
   "metadata": {
    "ExecuteTime": {
     "end_time": "2018-05-31T04:56:55.408337Z",
     "start_time": "2018-05-31T04:56:55.403839Z"
    }
   },
   "outputs": [
    {
     "data": {
      "text/plain": [
       "array([[0., 1., 1., ..., 0., 0., 0.],\n",
       "       [0., 1., 0., ..., 0., 0., 0.]])"
      ]
     },
     "execution_count": 5,
     "metadata": {},
     "output_type": "execute_result"
    }
   ],
   "source": [
    "#打印单词索引的字典物件\n",
    "one_hot_results"
   ]
  },
  {
   "cell_type": "code",
   "execution_count": null,
   "metadata": {},
   "outputs": [],
   "source": []
  },
  {
   "cell_type": "code",
   "execution_count": null,
   "metadata": {},
   "outputs": [],
   "source": []
  },
  {
   "cell_type": "code",
   "execution_count": null,
   "metadata": {},
   "outputs": [],
   "source": []
  }
 ],
 "metadata": {
  "kernelspec": {
   "display_name": "Python 3",
   "language": "python",
   "name": "python3"
  },
  "language_info": {
   "codemirror_mode": {
    "name": "ipython",
    "version": 3
   },
   "file_extension": ".py",
   "mimetype": "text/x-python",
   "name": "python",
   "nbconvert_exporter": "python",
   "pygments_lexer": "ipython3",
   "version": "3.6.4"
  },
  "toc": {
   "base_numbering": 1,
   "nav_menu": {},
   "number_sections": true,
   "sideBar": true,
   "skip_h1_title": false,
   "title_cell": "Table of Contents",
   "title_sidebar": "Contents",
   "toc_cell": false,
   "toc_position": {},
   "toc_section_display": true,
   "toc_window_display": false
  }
 },
 "nbformat": 4,
 "nbformat_minor": 2
}

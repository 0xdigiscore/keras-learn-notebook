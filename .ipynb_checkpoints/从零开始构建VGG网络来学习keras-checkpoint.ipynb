{
 "cells": [
  {
   "cell_type": "markdown",
   "metadata": {},
   "source": [
    "# 从零开始构建VGG网络来学习Keras \n",
    "\n",
    "Keras使得创建深度学习模型变得快速而简单, 虽然如此很多时候我们只要复制许多官网的范例就可做出很多令人觉得惊奇的结果。但是当要解决的问题需要进行一些模型的调整与优化或是需要构建出一个新论文的网络结构的时候, 我们就可能会左支右拙的难以招架。\n",
    "\n",
    "在本教程中，您将通过阅读VGG的原始论文从零开始使用Keras来构建在ILSVRC-2014 (ImageNet competition)竞赛中获的第一名的VGG (Visual Geometry Group, University of Oxford)网络结构。\n",
    "\n",
    "那么，重新构建别人已经构建的东西有什么意义呢？重点是学习。通过完成这次的练习，您将：\n",
    "\n",
    "* 了解更多关于VGG的架构\n",
    "* 了解有关卷积神经网络的更多信息\n",
    "* 了解如何在Keras中实施某种网络结构\n",
    "* 通过阅读论文并实施其中的某些部分可以了解更多底层的原理与原始构想\n",
    "![1.jpg](https://www.cs.toronto.edu/~frossard/post/vgg16/vgg16.png)"
   ]
  },
  {
   "cell_type": "markdown",
   "metadata": {},
   "source": [
    "## 论文中的VGG结构\n",
    "![2.jpg](https://cdn-images-1.medium.com/max/1600/1*FRd9fDM1TXThW2V8ylL7VQ.png)\n",
    "\n",
    "根据论文的测试给果D (VGG16)与E (VGG19)是效果最好的,由于这两种网络构建的方法与技巧几乎相同,因此我们选手构建D (VGG16)这个网络结构类型。\n",
    "\n",
    "在2.1章节中论述了详细的卷积层的相关讯息:\n",
    "\n",
    "* 输入图像尺寸( input size)：224 x 224\n",
    "* 感受过泸器( receptive field)的大小是3 x 3\n",
    "* 卷积步长( stride)是1个像素\n",
    "* 填充( padding)是1（对于3 x 3的感受过泸器）\n",
    "* 池化层的大小是2×2且步长( stride)为2像素\n",
    "* 有两个完全连接层，每层4096个神经元\n",
    "* 最后一层是具有1000个神经元的softmax分类层（代表1000个ImageNet类别）\n",
    "* 激励函数是ReLU"
   ]
  },
  {
   "cell_type": "code",
   "execution_count": 4,
   "metadata": {
    "ExecuteTime": {
     "end_time": "2018-05-31T03:32:08.891545Z",
     "start_time": "2018-05-31T03:32:08.879978Z"
    }
   },
   "outputs": [
    {
     "name": "stdout",
     "output_type": "stream",
     "text": [
      "Platform: Darwin-15.6.0-x86_64-i386-64bit \n",
      "Tensorflow version: 1.8.0 \n",
      " Keras version: 2.1.6 \n"
     ]
    }
   ],
   "source": [
    "#这个Jupyter Notebook的环境\n",
    "import  platform \n",
    "import  tensorflow \n",
    "import  keras \n",
    "print ( \"Platform: {} \" . format ( platform . platform ())) \n",
    "print ( \"Tensorflow version: {} \" . format ( tensorflow . __version__ )) \n",
    "print ( \" Keras version: {} \" . format ( keras . __version__ ))\n",
    "\n",
    "% matplotlib inline\n",
    "import  matplotlib.pyplot  as  plt \n",
    "import  matplotlib.image  as  mpimg \n",
    "import  numpy  as  np \n",
    "from  IPython.display  import Image"
   ]
  },
  {
   "cell_type": "markdown",
   "metadata": {},
   "source": [
    "# 使用序贯创建模型"
   ]
  },
  {
   "cell_type": "code",
   "execution_count": 3,
   "metadata": {
    "ExecuteTime": {
     "end_time": "2018-05-31T03:31:55.900641Z",
     "start_time": "2018-05-31T03:31:55.554196Z"
    }
   },
   "outputs": [
    {
     "name": "stdout",
     "output_type": "stream",
     "text": [
      "_________________________________________________________________\n",
      "Layer (type)                 Output Shape              Param #   \n",
      "=================================================================\n",
      "block1_conv1 (Conv2D)        (None, 224, 224, 64)      1792      \n",
      "_________________________________________________________________\n",
      "block1_conv2 (Conv2D)        (None, 224, 224, 64)      36928     \n",
      "_________________________________________________________________\n",
      "block1_pool (MaxPooling2D)   (None, 112, 112, 64)      0         \n",
      "_________________________________________________________________\n",
      "block2_conv1 (Conv2D)        (None, 112, 112, 128)     73856     \n",
      "_________________________________________________________________\n",
      "block2_conv2 (Conv2D)        (None, 112, 112, 128)     147584    \n",
      "_________________________________________________________________\n",
      "block2_pool (MaxPooling2D)   (None, 56, 56, 128)       0         \n",
      "_________________________________________________________________\n",
      "block3_conv1 (Conv2D)        (None, 56, 56, 256)       295168    \n",
      "_________________________________________________________________\n",
      "block3_conv2 (Conv2D)        (None, 56, 56, 256)       590080    \n",
      "_________________________________________________________________\n",
      "block3_conv3 (Conv2D)        (None, 56, 56, 256)       590080    \n",
      "_________________________________________________________________\n",
      "block3_pool (MaxPooling2D)   (None, 28, 28, 256)       0         \n",
      "_________________________________________________________________\n",
      "block4_conv1 (Conv2D)        (None, 28, 28, 512)       1180160   \n",
      "_________________________________________________________________\n",
      "block4_conv2 (Conv2D)        (None, 28, 28, 512)       2359808   \n",
      "_________________________________________________________________\n",
      "block4_conv3 (Conv2D)        (None, 28, 28, 512)       2359808   \n",
      "_________________________________________________________________\n",
      "block4_pool (MaxPooling2D)   (None, 14, 14, 512)       0         \n",
      "_________________________________________________________________\n",
      "block5_conv1 (Conv2D)        (None, 14, 14, 512)       2359808   \n",
      "_________________________________________________________________\n",
      "block5_conv2 (Conv2D)        (None, 14, 14, 512)       2359808   \n",
      "_________________________________________________________________\n",
      "block5_conv3 (Conv2D)        (None, 14, 14, 512)       2359808   \n",
      "_________________________________________________________________\n",
      "block5_pool (MaxPooling2D)   (None, 7, 7, 512)         0         \n",
      "_________________________________________________________________\n",
      "flatten (Flatten)            (None, 25088)             0         \n",
      "_________________________________________________________________\n",
      "fc1 (Dense)                  (None, 4096)              102764544 \n",
      "_________________________________________________________________\n",
      "fc2 (Dense)                  (None, 4096)              16781312  \n",
      "_________________________________________________________________\n",
      "predictions (Dense)          (None, 1000)              4097000   \n",
      "=================================================================\n",
      "Total params: 138,357,544\n",
      "Trainable params: 138,357,544\n",
      "Non-trainable params: 0\n",
      "_________________________________________________________________\n"
     ]
    }
   ],
   "source": [
    "import  keras \n",
    "from  keras.models  import  Sequential \n",
    "from  keras.layers  import  Dense ,  Activation ,  Dropout ,  Flatten \n",
    "from  keras.layers  import  Conv2D ,  MaxPool2D \n",
    "from  keras.utils  import  plot_model\n",
    "#定义输入\n",
    "input_shape  =  ( 224 ,  224 ,  3 )  # RGB影像224x224 (height, width, channel)\n",
    "#使用'序贯模型(Sequential)来定义\n",
    "model  =  Sequential ( name = 'vgg16-sequential' )\n",
    "\n",
    "#第1个卷积区块(block1) \n",
    "model . add ( Conv2D ( 64 ,  ( 3 ,  3 ),  padding = 'same' ,  activation = 'relu' ,  input_shape = input_shape ,  name = 'block1_conv1' )) \n",
    "model . add ( Conv2D ( 64 ,  ( 3 ,  3 ),  padding = 'same' ,  activation = 'relu' , name = 'block1_conv2' )) \n",
    "model . add ( MaxPool2D (( 2 ,  2 ),  strides = ( 2 ,  2 ),  name = 'block1_pool' ))\n",
    "\n",
    "#第2个卷积区块(block2) \n",
    "model . add ( Conv2D ( 128 ,  ( 3 ,  3 ),  padding = 'same' ,  activation = 'relu' ,  name = 'block2_conv1' )) \n",
    "model . add ( Conv2D ( 128 ,  ( 3 ,  3 ),  padding = 'same' ,  activation = 'relu' ,  name = 'block2_conv2' ))\n",
    "model . add ( MaxPool2D (( 2 ,  2 ),  strides = ( 2 ,  2 ),  name = 'block2_pool' ))\n",
    "\n",
    "#第3个卷积区块(block3) \n",
    "model . add ( Conv2D ( 256 ,  ( 3 ,  3 ),  padding = 'same' ,  activation = 'relu' ,  name = 'block3_conv1' )) \n",
    "model . add ( Conv2D ( 256 ,  ( 3 ,  3 ),  padding = 'same' ,  activation = 'relu' ,  name = 'block3_conv2' ))\n",
    "model . add ( Conv2D ( 256 ,  ( 3 ,  3 ),  padding = 'same' ,  activation = 'relu' ,  name = 'block3_conv3' )) \n",
    "model . add ( MaxPool2D (( 2 ,  2 ),  strides = ( 2 ,  2 ),  name = 'block3_pool' ))\n",
    "\n",
    "#第4个卷积区块(block4) \n",
    "model . add ( Conv2D ( 512 ,  ( 3 ,  3 ),  padding = 'same' ,  activation = 'relu' ,  name = 'block4_conv1' )) \n",
    "model . add ( Conv2D ( 512 ,  ( 3 ,  3 ),  padding = 'same' ,  activation = 'relu' ,  name = 'block4_conv2' ))\n",
    "model . add ( Conv2D ( 512 ,  ( 3 ,  3 ),  padding = 'same' ,  activation = 'relu' ,  name = 'block4_conv3' )) \n",
    "model . add ( MaxPool2D (( 2 ,  2 ),  strides = ( 2 ,  2 ),  name = 'block4_pool' ))\n",
    "\n",
    "#第5个卷积区块(block5) \n",
    "model . add ( Conv2D ( 512 ,  ( 3 ,  3 ),  padding = 'same' ,  activation = 'relu' ,  name = 'block5_conv1' )) \n",
    "model . add ( Conv2D ( 512 ,  ( 3 ,  3 ),  padding = 'same' ,  activation = 'relu' ,  name = 'block5_conv2' ))\n",
    "model . add ( Conv2D ( 512 ,  ( 3 ,  3 ),  padding = 'same' ,  activation = 'relu' ,  name = 'block5_conv3' )) \n",
    "model . add ( MaxPool2D (( 2 ,  2 ),  strides = ( 2 ,  2 ),  name = 'block5_pool' ))\n",
    "\n",
    "#前馈全连接区块\n",
    "model . add ( Flatten ( name = 'flatten' )) \n",
    "model . add ( Dense ( 4096 ,  activation = 'relu' ,  name = 'fc1' )) \n",
    "model . add ( Dense ( 4096 ,  activation = 'relu' ,  name = 'fc2' )) \n",
    "model . add ( Dense ( 1000 ,  activation= 'softmax' ,  name = 'predictions' ))\n",
    "\n",
    "#打印网络结构\n",
    "model . summary ()"
   ]
  },
  {
   "cell_type": "markdown",
   "metadata": {},
   "source": [
    "# 函数式模型"
   ]
  },
  {
   "cell_type": "code",
   "execution_count": 6,
   "metadata": {
    "ExecuteTime": {
     "end_time": "2018-05-31T03:35:19.497854Z",
     "start_time": "2018-05-31T03:35:19.090658Z"
    }
   },
   "outputs": [
    {
     "name": "stdout",
     "output_type": "stream",
     "text": [
      "_________________________________________________________________\n",
      "Layer (type)                 Output Shape              Param #   \n",
      "=================================================================\n",
      "img_input (InputLayer)       (None, 224, 224, 3)       0         \n",
      "_________________________________________________________________\n",
      "block1_conv1 (Conv2D)        (None, 224, 224, 64)      1792      \n",
      "_________________________________________________________________\n",
      "block1_conv2 (Conv2D)        (None, 224, 224, 64)      36928     \n",
      "_________________________________________________________________\n",
      "block1_pool (MaxPooling2D)   (None, 112, 112, 64)      0         \n",
      "_________________________________________________________________\n",
      "block2_conv1 (Conv2D)        (None, 112, 112, 128)     73856     \n",
      "_________________________________________________________________\n",
      "block2_conv2 (Conv2D)        (None, 112, 112, 128)     147584    \n",
      "_________________________________________________________________\n",
      "block2_pool (MaxPooling2D)   (None, 56, 56, 128)       0         \n",
      "_________________________________________________________________\n",
      "block3_conv1 (Conv2D)        (None, 56, 56, 256)       295168    \n",
      "_________________________________________________________________\n",
      "block3_conv2 (Conv2D)        (None, 56, 56, 256)       590080    \n",
      "_________________________________________________________________\n",
      "block3_conv3 (Conv2D)        (None, 56, 56, 256)       590080    \n",
      "_________________________________________________________________\n",
      "block3_pool (MaxPooling2D)   (None, 28, 28, 256)       0         \n",
      "_________________________________________________________________\n",
      "block4_conv1 (Conv2D)        (None, 28, 28, 512)       1180160   \n",
      "_________________________________________________________________\n",
      "block4_conv2 (Conv2D)        (None, 28, 28, 512)       2359808   \n",
      "_________________________________________________________________\n",
      "block4_conv3 (Conv2D)        (None, 28, 28, 512)       2359808   \n",
      "_________________________________________________________________\n",
      "block4_pool (MaxPooling2D)   (None, 14, 14, 512)       0         \n",
      "_________________________________________________________________\n",
      "block5_conv1 (Conv2D)        (None, 14, 14, 512)       2359808   \n",
      "_________________________________________________________________\n",
      "block5_conv2 (Conv2D)        (None, 14, 14, 512)       2359808   \n",
      "_________________________________________________________________\n",
      "block5_conv3 (Conv2D)        (None, 14, 14, 512)       2359808   \n",
      "_________________________________________________________________\n",
      "block5_pool (MaxPooling2D)   (None, 7, 7, 512)         0         \n",
      "_________________________________________________________________\n",
      "flatten (Flatten)            (None, 25088)             0         \n",
      "_________________________________________________________________\n",
      "fc1 (Dense)                  (None, 4096)              102764544 \n",
      "_________________________________________________________________\n",
      "fc2 (Dense)                  (None, 4096)              16781312  \n",
      "_________________________________________________________________\n",
      "predictions (Dense)          (None, 1000)              4097000   \n",
      "=================================================================\n",
      "Total params: 138,357,544\n",
      "Trainable params: 138,357,544\n",
      "Non-trainable params: 0\n",
      "_________________________________________________________________\n"
     ]
    }
   ],
   "source": [
    "import  keras \n",
    "from  keras.models  import  Model \n",
    "from  keras.layers  import  Input ,  Dense ,  Activation ,  Dropout ,  Flatten \n",
    "from  keras.layers  import  Conv2D ,  MaxPool2D\n",
    "\n",
    "#定义输入\n",
    "input_shape  =  ( 224 ,  224 ,  3 )  # RGB影像224x224 (height, width, channel)\n",
    "\n",
    "#输入层\n",
    "img_input  =  Input ( shape = input_shape ,  name = 'img_input' )\n",
    "#第1个卷积区块(block1) \n",
    "x  =  Conv2D ( 64 ,  ( 3 ,  3 ),  padding = 'same' ,  activation = 'relu' ,  name = 'block1_conv1' )( img_input ) \n",
    "x  =  Conv2D ( 64 ,  ( 3 ,  3 ),  padding = 'same' ,  activation = 'relu' ,  name = 'block1_conv2' )( x ) \n",
    "x =  MaxPool2D (( 2 ,  2 ),  strides = ( 2 ,  2 ),  name = 'block1_pool' )( x )\n",
    "#第2个卷积区块(block2) \n",
    "x  =  Conv2D ( 128 ,  ( 3 ,  3 ),  padding = 'same' ,  activation = 'relu' ,  name = 'block2_conv1' )( x ) \n",
    "x  =  Conv2D ( 128 ,  ( 3 ,  3 ),  padding = 'same' ,  activation = 'relu' ,  name = 'block2_conv2' )( x ) \n",
    "x  = MaxPool2D (( 2 ,  2 ),  strides = ( 2 ,  2 ),  name = 'block2_pool' )( x )\n",
    "\n",
    "#第3个卷积区块(block3) \n",
    "x  =  Conv2D ( 256 ,  ( 3 ,  3 ),  padding = 'same' ,  activation = 'relu' ,  name = 'block3_conv1' )( x ) \n",
    "x  =  Conv2D ( 256 ,  ( 3 ,  3 ),  padding = 'same' ,  activation = 'relu' ,  name = 'block3_conv2' )( x ) \n",
    "x  = Conv2D ( 256 ,  ( 3 ,  3 ),  padding = 'same' ,  activation = 'relu' ,  name = 'block3_conv3' )( x ) \n",
    "x  =  MaxPool2D (( 2 ,  2 ),  strides = ( 2 ,  2 ),  name = 'block3_pool' )( x )\n",
    "\n",
    "#第4个卷积区块(block4) \n",
    "x  =  Conv2D ( 512 ,  ( 3 ,  3 ),  padding = 'same' ,  activation = 'relu' ,  name = 'block4_conv1' )( x ) \n",
    "x  =  Conv2D ( 512 ,  ( 3 ,  3 ),  padding = 'same' ,  activation = 'relu' ,  name = 'block4_conv2' )( x ) \n",
    "x  = Conv2D ( 512 ,  ( 3 ,  3 ),  padding = 'same' ,  activation = 'relu' ,  name = 'block4_conv3' )( x ) \n",
    "x  =  MaxPool2D (( 2 ,  2 ),  strides = ( 2 ,  2 ),  name = 'block4_pool' )( x )\n",
    "\n",
    "#第5个卷积区块(block5) \n",
    "x  =  Conv2D ( 512 ,  ( 3 ,  3 ),  padding = 'same' ,  activation = 'relu' ,  name = 'block5_conv1' )( x ) \n",
    "x  =  Conv2D ( 512 ,  ( 3 ,  3 ),  padding = 'same' ,  activation = 'relu' ,  name = 'block5_conv2' )( x ) \n",
    "x  = Conv2D ( 512 ,  ( 3 ,  3 ),  padding = 'same' ,  activation = 'relu' ,  name = 'block5_conv3' )( x ) \n",
    "x  =  MaxPool2D (( 2 ,  2 ),  strides = ( 2 ,  2 ),  name = 'block5_pool' )( x )\n",
    "\n",
    "#前馈全连接区块\n",
    "x  =  Flatten ( name = 'flatten' )( x ) \n",
    "x  =  Dense ( 4096 ,  activation = 'relu' ,  name = 'fc1' )( x ) \n",
    "x  =  Dense ( 4096 ,  activation = 'relu' ,  name = 'fc2' )( x ) \n",
    "x  =  Dense ( 1000 ,  activation = 'softmax' , name = 'predictions' )( x )\n",
    "\n",
    "#产生模型\n",
    "model2  =  Model ( inputs = img_input ,  outputs = x ,  name = 'vgg16-funcapi' )\n",
    "\n",
    "#打印网络结构\n",
    "model2 . summary ()"
   ]
  },
  {
   "cell_type": "code",
   "execution_count": null,
   "metadata": {},
   "outputs": [],
   "source": []
  }
 ],
 "metadata": {
  "kernelspec": {
   "display_name": "Python 3",
   "language": "python",
   "name": "python3"
  },
  "language_info": {
   "codemirror_mode": {
    "name": "ipython",
    "version": 3
   },
   "file_extension": ".py",
   "mimetype": "text/x-python",
   "name": "python",
   "nbconvert_exporter": "python",
   "pygments_lexer": "ipython3",
   "version": "3.6.4"
  },
  "toc": {
   "base_numbering": 1,
   "nav_menu": {},
   "number_sections": true,
   "sideBar": true,
   "skip_h1_title": false,
   "title_cell": "Table of Contents",
   "title_sidebar": "Contents",
   "toc_cell": false,
   "toc_position": {},
   "toc_section_display": true,
   "toc_window_display": false
  }
 },
 "nbformat": 4,
 "nbformat_minor": 2
}
